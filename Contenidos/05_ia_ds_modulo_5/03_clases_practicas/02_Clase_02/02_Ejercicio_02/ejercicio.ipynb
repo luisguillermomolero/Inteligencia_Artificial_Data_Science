{
 "cells": [
  {
   "cell_type": "code",
   "execution_count": 2,
   "id": "6b430c19",
   "metadata": {},
   "outputs": [
    {
     "name": "stdout",
     "output_type": "stream",
     "text": [
      "Epoch 1\n",
      "Tallas falsas generadas [74.55 81.31 83.72 77.38 81.94]\n",
      "Prob. de ser reales (falsas): [0.   0.02 0.07 0.   0.03]\n",
      "----------------------------------------\n",
      "Epoch 2\n",
      "Tallas falsas generadas [74.47 70.75 86.84 75.61 71.61]\n",
      "Prob. de ser reales (falsas): [0.   0.   0.24 0.   0.  ]\n",
      "----------------------------------------\n",
      "Epoch 3\n",
      "Tallas falsas generadas [83.08 75.57 81.63 86.79 81.36]\n",
      "Prob. de ser reales (falsas): [0.05 0.   0.02 0.24 0.02]\n",
      "----------------------------------------\n",
      "Epoch 4\n",
      "Tallas falsas generadas [72.67 76.52 84.43 74.41 75.5 ]\n",
      "Prob. de ser reales (falsas): [0.  0.  0.1 0.  0. ]\n",
      "----------------------------------------\n",
      "Epoch 5\n",
      "Tallas falsas generadas [77.42 85.03 69.33 79.22 76.6 ]\n",
      "Prob. de ser reales (falsas): [0.   0.12 0.   0.01 0.  ]\n",
      "----------------------------------------\n",
      "Epoch 6\n",
      "Tallas falsas generadas [72.1  74.92 79.74 78.36 72.45]\n",
      "Prob. de ser reales (falsas): [0.   0.   0.01 0.   0.  ]\n",
      "----------------------------------------\n",
      "Epoch 7\n",
      "Tallas falsas generadas [78.96 79.37 72.29 71.95 71.93]\n",
      "Prob. de ser reales (falsas): [0.01 0.01 0.   0.   0.  ]\n",
      "----------------------------------------\n",
      "Epoch 8\n",
      "Tallas falsas generadas [78.73 77.62 74.21 74.55 81.5 ]\n",
      "Prob. de ser reales (falsas): [0.   0.   0.   0.   0.02]\n",
      "----------------------------------------\n",
      "Epoch 9\n",
      "Tallas falsas generadas [82.94 77.76 78.2  85.53 85.95]\n",
      "Prob. de ser reales (falsas): [0.05 0.   0.   0.15 0.17]\n",
      "----------------------------------------\n",
      "Epoch 10\n",
      "Tallas falsas generadas [79.7  72.7  82.53 77.04 78.7 ]\n",
      "Prob. de ser reales (falsas): [0.01 0.   0.04 0.   0.  ]\n",
      "----------------------------------------\n"
     ]
    }
   ],
   "source": [
    "import numpy as np\n",
    "\n",
    "real_data = np.random.normal(loc=95, scale=5, size=1000)\n",
    "\n",
    "def generador(n):\n",
    "    ruido = np.random.normal(0, 1, n)\n",
    "    return 80 + ruido * 5\n",
    "\n",
    "def discriminador(x):\n",
    "    media_real = np.mean(real_data)\n",
    "    sigma = 5.0\n",
    "    return np.exp(-((x -media_real) ** 2) / (2 * sigma ** 2))\n",
    "\n",
    "for epoch in range(10):\n",
    "    falsas = generador(5)\n",
    "    prob_reales = discriminador(np.random.choice(real_data, 5))\n",
    "    prob_falsas = discriminador(falsas)\n",
    "    mejora = np.mean(prob_falsas)\n",
    "    falsas = falsas + (95 - falsas) * mejora * 0.1\n",
    "\n",
    "    print(f\"Epoch {epoch + 1}\")\n",
    "    print(f\"Tallas falsas generadas {falsas.round(2)}\")\n",
    "    print(f\"Prob. de ser reales (falsas): {prob_falsas.round(2)}\")\n",
    "    print(\"-\" * 40)\n",
    "    \n",
    "    "
   ]
  }
 ],
 "metadata": {
  "kernelspec": {
   "display_name": "base",
   "language": "python",
   "name": "python3"
  },
  "language_info": {
   "codemirror_mode": {
    "name": "ipython",
    "version": 3
   },
   "file_extension": ".py",
   "mimetype": "text/x-python",
   "name": "python",
   "nbconvert_exporter": "python",
   "pygments_lexer": "ipython3",
   "version": "3.12.7"
  }
 },
 "nbformat": 4,
 "nbformat_minor": 5
}
