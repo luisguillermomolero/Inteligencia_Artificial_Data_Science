{
 "cells": [
  {
   "cell_type": "code",
   "execution_count": 1,
   "id": "cceef562",
   "metadata": {},
   "outputs": [
    {
     "name": "stdout",
     "output_type": "stream",
     "text": [
      "Cupcake de vainilla con topping de caramelo\n",
      "Cupcake de limón con topping de fresas\n",
      "Cupcake de limón con topping de nueces\n",
      "Cupcake de limón con topping de nueces\n",
      "Cupcake de café con topping de chispas\n"
     ]
    }
   ],
   "source": [
    "import random\n",
    "\n",
    "sabores = [\"chocolate\", \"vainilla\", \"fresa\", \"limón\", \"café\"]\n",
    "toppings = [\"crema\", \"fresas\", \"chispas\", \"caramelo\", \"nueces\"]\n",
    "\n",
    "def generar_cupcake():\n",
    "    sabor = random.choice(sabores)\n",
    "    topping = random.choice(toppings)\n",
    "    return f\"Cupcake de {sabor} con topping de {topping}\"\n",
    "\n",
    "for _ in range(5):\n",
    "    print(generar_cupcake())"
   ]
  }
 ],
 "metadata": {
  "kernelspec": {
   "display_name": "base",
   "language": "python",
   "name": "python3"
  },
  "language_info": {
   "codemirror_mode": {
    "name": "ipython",
    "version": 3
   },
   "file_extension": ".py",
   "mimetype": "text/x-python",
   "name": "python",
   "nbconvert_exporter": "python",
   "pygments_lexer": "ipython3",
   "version": "3.12.7"
  }
 },
 "nbformat": 4,
 "nbformat_minor": 5
}
