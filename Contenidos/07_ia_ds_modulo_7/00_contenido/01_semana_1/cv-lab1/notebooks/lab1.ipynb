{
 "cells": [
  {
   "cell_type": "markdown",
   "id": "c7465120",
   "metadata": {},
   "source": [
    "# Laboratorio 1 — Manipulación básica de imágenes\n",
    "\n",
    "**Objetivo:** Ejecutar funciones para cargar, redimensionar, recortar, rotar y guardar imágenes.\n",
    "\n",
    "Este notebook usa el módulo `src/cv_fundamentals.py` y una imagen de ejemplo en `data/sample.jpg`.\n",
    "\n",
    "Asegúrate de tener instaladas las dependencias del proyecto (ver `requirements.txt`)."
   ]
  },
  {
   "cell_type": "markdown",
   "id": "d0087822",
   "metadata": {},
   "source": [
    "## Instalación de dependencias\n",
    "\n",
    "En tu entorno local, desde la carpeta raíz del repositorio ejecuta:\n",
    "\n",
    "```bash\n",
    "python -m venv venv\n",
    "source venv/bin/activate  # o venv\\Scripts\\Activate.ps1 en Windows PowerShell\n",
    "pip install -r requirements.txt\n",
    "```\n",
    "\n",
    "En el notebook puedes instalar paquetes con `!pip install -r ../requirements.txt` si lo deseas."
   ]
  },
  {
   "cell_type": "code",
   "execution_count": null,
   "id": "dbd7b3e4",
   "metadata": {},
   "outputs": [],
   "source": [
    "# Añadir el path del módulo src al sys.path para poder importarlo desde el notebook\n",
    "import sys\n",
    "from pathlib import Path\n",
    "\n",
    "repo_root = Path('..')\n",
    "sys.path.insert(0, str(repo_root / 'src'))\n",
    "\n",
    "print('src path added:', str(repo_root / 'src'))\n"
   ]
  },
  {
   "cell_type": "code",
   "execution_count": null,
   "id": "0edef5ac",
   "metadata": {},
   "outputs": [],
   "source": [
    "from cv_fundamentals import load_image, show_image_matplotlib, resize_image, rotate_image, crop_image, save_image\n",
    "print('Funciones importadas: load_image, show_image_matplotlib, resize_image, rotate_image, crop_image, save_image')\n"
   ]
  },
  {
   "cell_type": "markdown",
   "id": "8fa87c3f",
   "metadata": {},
   "source": [
    "### Paso 1 — Cargar la imagen y mostrar `shape` y `dtype`"
   ]
  },
  {
   "cell_type": "code",
   "execution_count": null,
   "id": "5682056b",
   "metadata": {},
   "outputs": [],
   "source": [
    "from pathlib import Path\n",
    "img_path = Path('..') / 'data' / 'sample.jpg'\n",
    "img = load_image(str(img_path), as_gray=False)\n",
    "print('Shape:', img.shape)\n",
    "print('Dtype:', img.dtype)\n"
   ]
  },
  {
   "cell_type": "markdown",
   "id": "1e51a428",
   "metadata": {},
   "source": [
    "### Mostrar la imagen original"
   ]
  },
  {
   "cell_type": "code",
   "execution_count": null,
   "id": "f60e0798",
   "metadata": {},
   "outputs": [],
   "source": [
    "show_image_matplotlib(img, title='Original - sample.jpg')\n"
   ]
  },
  {
   "cell_type": "markdown",
   "id": "88dceec4",
   "metadata": {},
   "source": [
    "### Paso 2 — Redimensionar la imagen a 800 px de ancho manteniendo el aspecto"
   ]
  },
  {
   "cell_type": "code",
   "execution_count": null,
   "id": "4ed4d60e",
   "metadata": {},
   "outputs": [],
   "source": [
    "img_resized = resize_image(img, width=800, keep_aspect=True)\n",
    "print('Resized shape:', img_resized.shape)\n",
    "show_image_matplotlib(img_resized, title='Resized - width 800 px')\n"
   ]
  },
  {
   "cell_type": "markdown",
   "id": "7284d3b7",
   "metadata": {},
   "source": [
    "### Paso 3 — Rotar la imagen 30 grados en sentido antihorario"
   ]
  },
  {
   "cell_type": "code",
   "execution_count": null,
   "id": "d70728ff",
   "metadata": {},
   "outputs": [],
   "source": [
    "img_rotated = rotate_image(img_resized, angle=30)\n",
    "print('Rotated shape (unchanged dims):', img_rotated.shape)\n",
    "show_image_matplotlib(img_rotated, title='Rotated 30° CCW')\n"
   ]
  },
  {
   "cell_type": "markdown",
   "id": "099f589e",
   "metadata": {},
   "source": [
    "### Paso 4 — Recortar ROI y guardar\n",
    "\n",
    "Recortaremos la región (x=100, y=50, w=200, h=200) sobre la imagen redimensionada."
   ]
  },
  {
   "cell_type": "code",
   "execution_count": null,
   "id": "d0d2041f",
   "metadata": {},
   "outputs": [],
   "source": [
    "x, y, w, h = 100, 50, 200, 200\n",
    "img_crop = crop_image(img_resized, x, y, w, h)\n",
    "print('Crop shape:', img_crop.shape)\n",
    "out_crop = Path('..') / 'data' / 'crop.jpg'\n",
    "save_image(str(out_crop), img_crop)\n",
    "print('Saved crop to', out_crop)\n",
    "show_image_matplotlib(img_crop, title='Crop (100,50,200,200)')\n"
   ]
  },
  {
   "cell_type": "markdown",
   "id": "ad441fc0",
   "metadata": {},
   "source": [
    "### Archivos generados en `data/`"
   ]
  },
  {
   "cell_type": "code",
   "execution_count": null,
   "id": "c487115c",
   "metadata": {},
   "outputs": [],
   "source": [
    "from pathlib import Path\n",
    "files = list((Path('..') / 'data').glob('*'))\n",
    "for f in files:\n",
    "    print(f.name)\n"
   ]
  }
 ],
 "metadata": {
  "kernelspec": {
   "display_name": "base",
   "language": "python",
   "name": "python3"
  },
  "language_info": {
   "codemirror_mode": {
    "name": "ipython",
    "version": 3
   },
   "file_extension": ".py",
   "mimetype": "text/x-python",
   "name": "python",
   "nbconvert_exporter": "python",
   "pygments_lexer": "ipython3",
   "version": "3.13.5"
  }
 },
 "nbformat": 4,
 "nbformat_minor": 5
}
